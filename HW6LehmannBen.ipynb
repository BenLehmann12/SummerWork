{
 "cells": [
  {
   "cell_type": "code",
   "execution_count": 1,
   "id": "7f2883ca",
   "metadata": {},
   "outputs": [],
   "source": [
    "from sklearn import tree"
   ]
  },
  {
   "cell_type": "code",
   "execution_count": 2,
   "id": "7056ad1e",
   "metadata": {},
   "outputs": [],
   "source": [
    "import numpy as np"
   ]
  },
  {
   "cell_type": "code",
   "execution_count": 3,
   "id": "a51e0024",
   "metadata": {},
   "outputs": [],
   "source": [
    "features = [[140,1],[130,1],[150,0],[170,0]]\n",
    "labels = [\"Apple\",\"Apple\",\"Orange\",\"Orange\"]"
   ]
  },
  {
   "cell_type": "code",
   "execution_count": 4,
   "id": "5137dfd5",
   "metadata": {},
   "outputs": [],
   "source": [
    "model = tree.DecisionTreeClassifier()"
   ]
  },
  {
   "cell_type": "code",
   "execution_count": 5,
   "id": "69ac7bed",
   "metadata": {},
   "outputs": [],
   "source": [
    "mfit = model.fit(features,labels)"
   ]
  },
  {
   "cell_type": "code",
   "execution_count": 6,
   "id": "83c9872f",
   "metadata": {},
   "outputs": [
    {
     "name": "stdout",
     "output_type": "stream",
     "text": [
      "['Orange']\n"
     ]
    }
   ],
   "source": [
    "print(mfit.predict([[140,0]]))"
   ]
  },
  {
   "cell_type": "code",
   "execution_count": 7,
   "id": "9a48ecf3",
   "metadata": {},
   "outputs": [
    {
     "name": "stdout",
     "output_type": "stream",
     "text": [
      "['Apple']\n"
     ]
    }
   ],
   "source": [
    "print(mfit.predict([[180,1]]))"
   ]
  },
  {
   "cell_type": "code",
   "execution_count": 8,
   "id": "66bc7228",
   "metadata": {},
   "outputs": [],
   "source": [
    "new_features = [[0,15],[0,25],[1,32],[0,40],[1,12],[1,14]]"
   ]
  },
  {
   "cell_type": "code",
   "execution_count": 9,
   "id": "ba788fc2",
   "metadata": {},
   "outputs": [],
   "source": [
    "new_labels = [\"Pokemon Go\",\"WhatsApp\",\"Snap Chat\",\"WhatsApp\",\"Pokemon Go\",\"Pokemon Go\"]"
   ]
  },
  {
   "cell_type": "code",
   "execution_count": 10,
   "id": "7f592b8d",
   "metadata": {},
   "outputs": [],
   "source": [
    "new_model = tree.DecisionTreeClassifier()"
   ]
  },
  {
   "cell_type": "code",
   "execution_count": 11,
   "id": "e21d953e",
   "metadata": {},
   "outputs": [],
   "source": [
    "new_fit = new_model.fit(new_features,new_labels)"
   ]
  },
  {
   "cell_type": "code",
   "execution_count": 12,
   "id": "8a44cd45",
   "metadata": {},
   "outputs": [
    {
     "name": "stdout",
     "output_type": "stream",
     "text": [
      "['Snap Chat']\n"
     ]
    }
   ],
   "source": [
    "print(new_fit.predict([[1,21]]))"
   ]
  },
  {
   "cell_type": "code",
   "execution_count": 13,
   "id": "b9c9d0f0",
   "metadata": {},
   "outputs": [
    {
     "name": "stdout",
     "output_type": "stream",
     "text": [
      "['Pokemon Go']\n"
     ]
    }
   ],
   "source": [
    "print(new_fit.predict([[0,18]]))"
   ]
  }
 ],
 "metadata": {
  "kernelspec": {
   "display_name": "Python 3 (ipykernel)",
   "language": "python",
   "name": "python3"
  },
  "language_info": {
   "codemirror_mode": {
    "name": "ipython",
    "version": 3
   },
   "file_extension": ".py",
   "mimetype": "text/x-python",
   "name": "python",
   "nbconvert_exporter": "python",
   "pygments_lexer": "ipython3",
   "version": "3.11.5"
  }
 },
 "nbformat": 4,
 "nbformat_minor": 5
}
